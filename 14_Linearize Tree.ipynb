{
 "cells": [
  {
   "cell_type": "code",
   "execution_count": 1,
   "metadata": {},
   "outputs": [],
   "source": [
    "class Node:\n",
    "    \n",
    "    def __init__(self,data):\n",
    "        \n",
    "        self.data = data\n",
    "        self.children = list()"
   ]
  },
  {
   "cell_type": "code",
   "execution_count": 2,
   "metadata": {},
   "outputs": [],
   "source": [
    "def treeInput(arr):\n",
    "    stack = []\n",
    "    \n",
    "    if len(arr)==0 or arr[0]==-1:\n",
    "        return None\n",
    "    for i in arr:\n",
    "        if i == -1:\n",
    "            stack.pop()\n",
    "        else: \n",
    "            node = Node(i)\n",
    "            \n",
    "            if len(stack)>0:\n",
    "                stack[-1].children.append(node)\n",
    "                \n",
    "            else:\n",
    "                root = node\n",
    "                \n",
    "            stack.append(node)\n",
    "        \n",
    "    return root\n",
    "        \n",
    "    "
   ]
  },
  {
   "cell_type": "code",
   "execution_count": 3,
   "metadata": {},
   "outputs": [],
   "source": [
    "import queue\n",
    "def LevelOrder(root):\n",
    "    c=0\n",
    "    mainQ = queue.Queue()\n",
    "    childQ = queue.Queue()\n",
    "    mainQ.put(root)\n",
    "    \n",
    "    while mainQ.empty() is False:\n",
    "        curr_node = mainQ.get()\n",
    "        print(curr_node.data,end=' ')\n",
    "        \n",
    "        for child in curr_node.children:\n",
    "            childQ.put(child)\n",
    "        \n",
    "        if mainQ.empty() is True:\n",
    "            mainQ = childQ\n",
    "            childQ = queue.Queue()\n",
    "            print()\n",
    "        \n",
    "        "
   ]
  },
  {
   "cell_type": "code",
   "execution_count": 16,
   "metadata": {},
   "outputs": [],
   "source": [
    "def getTail(root):\n",
    "    \n",
    "    if len(root.children)==0:\n",
    "        return root\n",
    "    endRoot = getTail(root.children[-1])\n",
    "    return endRoot\n",
    "\n",
    "def Linearize(root):\n",
    "    \n",
    "    for child in root.children:\n",
    "        Linearize(child)\n",
    "        \n",
    "    while(len(root.children)>1):\n",
    "        lastNode = root.children.pop()\n",
    "        secondLastNode = getTail(root)\n",
    "        secondLastNode.children.append(lastNode)\n",
    "        \n",
    "        "
   ]
  },
  {
   "cell_type": "code",
   "execution_count": 17,
   "metadata": {},
   "outputs": [],
   "source": [
    "arr = [10,20,50,-1,60,-1,-1,30,70,-1,80,110,-1,120,-1,-1,90,-1,-1,40,100,-1,-1,-1]\n",
    "root = treeInput(arr)"
   ]
  },
  {
   "cell_type": "code",
   "execution_count": 18,
   "metadata": {},
   "outputs": [
    {
     "name": "stdout",
     "output_type": "stream",
     "text": [
      "10 \n",
      "20 30 40 \n",
      "50 60 70 80 90 100 \n",
      "110 120 \n"
     ]
    }
   ],
   "source": [
    "LevelOrder(root)"
   ]
  },
  {
   "cell_type": "code",
   "execution_count": 19,
   "metadata": {},
   "outputs": [
    {
     "name": "stdout",
     "output_type": "stream",
     "text": [
      "10 \n",
      "20 \n",
      "50 \n",
      "60 \n",
      "30 \n",
      "70 \n",
      "80 \n",
      "110 \n",
      "120 \n",
      "90 \n",
      "40 \n",
      "100 \n"
     ]
    }
   ],
   "source": [
    "Linearize(root)\n",
    "LevelOrder(root)"
   ]
  },
  {
   "cell_type": "code",
   "execution_count": null,
   "metadata": {},
   "outputs": [],
   "source": []
  }
 ],
 "metadata": {
  "kernelspec": {
   "display_name": "Python 3",
   "language": "python",
   "name": "python3"
  },
  "language_info": {
   "codemirror_mode": {
    "name": "ipython",
    "version": 3
   },
   "file_extension": ".py",
   "mimetype": "text/x-python",
   "name": "python",
   "nbconvert_exporter": "python",
   "pygments_lexer": "ipython3",
   "version": "3.8.5"
  }
 },
 "nbformat": 4,
 "nbformat_minor": 4
}
